{
 "cells": [
  {
   "cell_type": "markdown",
   "id": "562b7b35",
   "metadata": {},
   "source": [
    "# **Assignment - 1** "
   ]
  },
  {
   "cell_type": "markdown",
   "id": "a2540554",
   "metadata": {},
   "source": [
    "Write a code in python to identify matches and gaps (non-matches) between two aligned protein sequences. The output should be able to tell the positions where gaps are found and the number of matches and gaps. You can use the protein sequences from today's class."
   ]
  },
  {
   "cell_type": "markdown",
   "id": "69f19db7",
   "metadata": {},
   "source": [
    "*_ _ _ _ _ _ _ _ _ _ _ _ _ _ _ _ _ _ _ _ _ _ _ _ _ _ _ _ _ _ _ _ _ _ _ _ _ _ _ _ _ _ _ _ _ _ _ _ _ _ _ _ _ _ _ _ _ _ _ _ _ _ _ _ _ _ _ _ _ _ _ _ _ _ _ _ _ _ _ _ _ _ _ _*"
   ]
  },
  {
   "cell_type": "code",
   "execution_count": 36,
   "id": "862c2a3c",
   "metadata": {},
   "outputs": [
    {
     "name": "stdout",
     "output_type": "stream",
     "text": [
      "Enter the first protein sequence: AACTTGGCT\n",
      "Enter the second protein sequence: AACTTG CT\n"
     ]
    }
   ],
   "source": [
    "#Taking inputs of two aligned protein sequences. Here I am considering the gap as \"_\" or \" \" character.\n",
    "sequence_1 = input(\"Enter the first protein sequence: \")\n",
    "sequence_2 = input(\"Enter the second protein sequence: \")"
   ]
  },
  {
   "cell_type": "code",
   "execution_count": 37,
   "id": "5b1b16ca",
   "metadata": {},
   "outputs": [],
   "source": [
    "#Created a function that provides the arrays of sequence's position where there is a match or unmatch\n",
    "def provide_matches_and_unmatches(seq1,seq2):\n",
    "    if(len(seq1)!=len(seq2)):\n",
    "        raise ValueError(\"Sequence must of same length\")\n",
    "    matches = []\n",
    "    unmatches = []\n",
    "    for i in range(len(seq1)):\n",
    "        if(seq1[i]==seq2[i]):\n",
    "            matches.append(i)\n",
    "        else:\n",
    "            unmatches.append(i)\n",
    "    return matches, unmatches"
   ]
  },
  {
   "cell_type": "code",
   "execution_count": 38,
   "id": "96219093",
   "metadata": {},
   "outputs": [],
   "source": [
    "#Created a function that provides the arrays of sequence's position where there is gap or a null character\n",
    "def provide_gaps(seq):\n",
    "    gaps = []\n",
    "    for i in range(len(seq)):\n",
    "        if seq[i] == \"_\" or seq[i] == \" \":\n",
    "            gaps.append(i)\n",
    "    if(len(gaps)==0):\n",
    "        print(\"There are no gaps in the sequence\")\n",
    "    else:\n",
    "        return gaps"
   ]
  },
  {
   "cell_type": "code",
   "execution_count": 39,
   "id": "7ec1ff16",
   "metadata": {},
   "outputs": [
    {
     "name": "stdout",
     "output_type": "stream",
     "text": [
      "The positions of matched elements are (positions are starting from zero): [0, 1, 2, 3, 4, 5, 7, 8]\n",
      "Number of matches are: 8\n",
      "The positions of unmatched elements are (positions are starting from zero): [6]\n",
      "Number of unmatches are: 1\n"
     ]
    }
   ],
   "source": [
    "matches,unmatches = provide_matches_and_unmatches(sequence_1,sequence_2)\n",
    "print(\"The positions of matched elements are (positions are starting from zero):\", matches)\n",
    "print(\"Number of matches are:\", len(matches))\n",
    "print(\"The positions of unmatched elements are (positions are starting from zero):\", unmatches)\n",
    "print(\"Number of unmatches are:\", len(unmatches))"
   ]
  },
  {
   "cell_type": "code",
   "execution_count": 40,
   "id": "2f266d1b",
   "metadata": {},
   "outputs": [
    {
     "name": "stdout",
     "output_type": "stream",
     "text": [
      "There are no gaps in the sequence\n",
      "The positions of gaps in the sequences are (positions are starting from zero): None\n"
     ]
    }
   ],
   "source": [
    "gaps = provide_gaps(sequence_1)\n",
    "print(\"The positions of gaps in the sequences are (positions are starting from zero):\",gaps)"
   ]
  },
  {
   "cell_type": "code",
   "execution_count": 41,
   "id": "7ef92f70",
   "metadata": {},
   "outputs": [
    {
     "name": "stdout",
     "output_type": "stream",
     "text": [
      "The positions of gaps in the sequences are (positions are starting from zero): [6]\n"
     ]
    }
   ],
   "source": [
    "gaps = provide_gaps(sequence_2)\n",
    "print(\"The positions of gaps in the sequences are (positions are starting from zero):\",gaps)"
   ]
  },
  {
   "cell_type": "code",
   "execution_count": null,
   "id": "d02b962c",
   "metadata": {},
   "outputs": [],
   "source": []
  }
 ],
 "metadata": {
  "kernelspec": {
   "display_name": "Python 3 (ipykernel)",
   "language": "python",
   "name": "python3"
  },
  "language_info": {
   "codemirror_mode": {
    "name": "ipython",
    "version": 3
   },
   "file_extension": ".py",
   "mimetype": "text/x-python",
   "name": "python",
   "nbconvert_exporter": "python",
   "pygments_lexer": "ipython3",
   "version": "3.9.7"
  }
 },
 "nbformat": 4,
 "nbformat_minor": 5
}
